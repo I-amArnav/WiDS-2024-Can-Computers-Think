{
  "cells": [
    {
      "cell_type": "markdown",
      "metadata": {
        "id": "view-in-github",
        "colab_type": "text"
      },
      "source": [
        "<a href=\"https://colab.research.google.com/github/I-amArnav/WiDS-2024-Can-Computers-Think/blob/main/Week%201/work_on_bandits.ipynb\" target=\"_parent\"><img src=\"https://colab.research.google.com/assets/colab-badge.svg\" alt=\"Open In Colab\"/></a>"
      ]
    },
    {
      "cell_type": "markdown",
      "metadata": {
        "id": "Mu3IWa--zDk5"
      },
      "source": [
        "# Bandit Problem"
      ]
    },
    {
      "cell_type": "code",
      "execution_count": null,
      "metadata": {
        "id": "lxLgYKwZzDk8"
      },
      "outputs": [],
      "source": [
        "# imports\n",
        "from bandits import Bandit\n",
        "import random\n",
        "# Include your imports here, if any are used."
      ]
    },
    {
      "cell_type": "markdown",
      "metadata": {
        "id": "47CnmUM4zDk-"
      },
      "source": [
        "A list of ten bandit objects initialized in the list..."
      ]
    },
    {
      "cell_type": "code",
      "execution_count": null,
      "metadata": {
        "id": "HBFF8WxnzDk-"
      },
      "outputs": [],
      "source": [
        "bandits = [Bandit(random.random()*4-2) for _ in range(10)]"
      ]
    },
    {
      "cell_type": "code",
      "execution_count": null,
      "metadata": {
        "id": "-02L75O9zDk-",
        "outputId": "f7475429-9221-4c91-bca1-f57afb94e719"
      },
      "outputs": [
        {
          "data": {
            "text/plain": [
              "0.04364432528747145"
            ]
          },
          "execution_count": 3,
          "metadata": {},
          "output_type": "execute_result"
        }
      ],
      "source": [
        "bandits[0].pullLever()"
      ]
    },
    {
      "cell_type": "markdown",
      "metadata": {
        "id": "xxU8lIwTzDk_"
      },
      "source": [
        "## Greedy algorithm Implementation"
      ]
    },
    {
      "cell_type": "code",
      "execution_count": null,
      "metadata": {
        "id": "nyZj5cxkzDk_"
      },
      "outputs": [],
      "source": [
        "def run_greedy():\n",
        "    # TODO: Implement the greedy algorithm here\n",
        "    # Return the reward from the bandits in a list\n",
        "    import random\n",
        "import matplotlib.pyplot as plt\n",
        "import numpy as np\n",
        "from bandits import Bandit\n",
        "\n",
        "bandits = [Bandit(random.random()*4-2) for _ in range(10)]\n",
        "def run_greedy(k):\n",
        "    n=0\n",
        "    totalrew=0\n",
        "    arr=[0,0,0,0,0,0,0,0,0,0]\n",
        "    rew = {i: [] for i in range(k)}\n",
        "    for j in range(k):\n",
        "        m=max(arr)\n",
        "        i=arr.index(m)\n",
        "        r=bandits[i].pullLever()\n",
        "        arr[i]=(n*arr[i]+r)/(n+1)\n",
        "        rew[i].append(r)\n",
        "        n=n+1\n",
        "        totalrew+=r\n",
        "        plt.scatter(j+1,totalrew/(j+1))\n",
        "    print(arr)\n",
        "    plt.show()\n",
        "    pass\n",
        "\n",
        "\n",
        "run_greedy(1000)"
      ]
    },
    {
      "cell_type": "markdown",
      "metadata": {
        "id": "gkHfZrmnzDlA"
      },
      "source": [
        "Plot the cumulative average of rewards as the number of iterations increases."
      ]
    },
    {
      "cell_type": "code",
      "execution_count": null,
      "metadata": {
        "id": "HpKR4lNBzDlA"
      },
      "outputs": [],
      "source": []
    },
    {
      "cell_type": "code",
      "execution_count": null,
      "metadata": {
        "id": "dwsC_eu-zDlA"
      },
      "outputs": [],
      "source": []
    },
    {
      "cell_type": "markdown",
      "metadata": {
        "id": "wniKgwd-zDlA"
      },
      "source": [
        "## $\\epsilon$-greedy Algorithm"
      ]
    },
    {
      "cell_type": "code",
      "execution_count": null,
      "metadata": {
        "id": "YMhwxBFqzDlA"
      },
      "outputs": [],
      "source": [
        "def run_epsilon_greedy(epsilon):\n",
        "    # TODO: Implement the epsilon greedy algorithm here\n",
        "    # Return the reward from the bandits in a list\n",
        "    import random\n",
        "from bandits import Bandit\n",
        "import matplotlib.pyplot as plt\n",
        "bandits = [Bandit(random.random()*4-2) for _ in range(10)]\n",
        "def run_e_greedy(k,e):\n",
        "    n=0\n",
        "    totalrew=0\n",
        "    arr=[0,0,0,0,0,0,0,0,0,0]\n",
        "    rew = {i: [] for i in range(k)}\n",
        "    for j in range(k):\n",
        "        m=max(arr)\n",
        "        randnum=random.uniform(0,1)\n",
        "        if randnum>=e:\n",
        "            i=arr.index(m)\n",
        "        else:\n",
        "            i=random.randint(0,9)\n",
        "        r=bandits[i].pullLever()\n",
        "        arr[i]=(n*arr[i]+r)/(n+1)\n",
        "        rew[i].append(r)\n",
        "        n=n+1\n",
        "        totalrew+=r\n",
        "        plt.scatter(j+1,totalrew/(j+1))\n",
        "    print(arr)\n",
        "    plt.show()\n",
        "    pass\n",
        "\n",
        "\n",
        "run_e_greedy(1000,0.1)\n",
        ""
      ]
    },
    {
      "cell_type": "markdown",
      "metadata": {
        "id": "gRUCLyTBzDlB"
      },
      "source": [
        "Plot the cumulative average of rewards as the number of iterations increases but for various values of $\\epsilon$."
      ]
    },
    {
      "cell_type": "code",
      "execution_count": null,
      "metadata": {
        "id": "0oaZsHlszDlB"
      },
      "outputs": [],
      "source": []
    },
    {
      "cell_type": "code",
      "execution_count": null,
      "metadata": {
        "id": "UyRKP4eCzDlB"
      },
      "outputs": [],
      "source": []
    },
    {
      "cell_type": "markdown",
      "metadata": {
        "id": "3PYfBGkwzDlB"
      },
      "source": [
        "## Finding the optimal $\\epsilon$"
      ]
    },
    {
      "cell_type": "markdown",
      "metadata": {
        "id": "E2yS8Ei9zDlB"
      },
      "source": [
        "Run the $\\epsilon$-greedy algorithm for 1000 iterations and find the optimal $\\epsilon$ value by plotting the cumulative average of rewards for various values of $\\epsilon$"
      ]
    },
    {
      "cell_type": "code",
      "execution_count": null,
      "metadata": {
        "id": "22GQmqvFzDlC"
      },
      "outputs": [],
      "source": [
        "from bandits import Bandit\n",
        "import matplotlib.pyplot as plt\n",
        "import numpy as np\n",
        "import random\n",
        "bandits = [Bandit(random.random()*4-2) for _ in range(10)]\n",
        "def run_greedy(k,e):\n",
        "    n=0\n",
        "    totalrew=0\n",
        "    arr=[5,5,5,5,5,5,5,5,5,5]\n",
        "    rew = {i: [] for i in range(k)}\n",
        "    for j in range(k):\n",
        "        m=max(arr)\n",
        "        randnum=random.uniform(0,1)\n",
        "        if randnum>=e:\n",
        "            i=arr.index(m)\n",
        "        else:\n",
        "            i=random.randint(0,9)\n",
        "        r=bandits[i].pullLever()\n",
        "        arr[i]=(n*arr[i]+r)/(n+1)\n",
        "        rew[i].append(r)\n",
        "        n=n+1\n",
        "        totalrew+=r\n",
        "    return totalrew\n",
        "\n",
        "def optimal_e(k):\n",
        "    totalrew=run_greedy(k,0.0)\n",
        "    op_e=0.0\n",
        "    for e in np.arange(0.0,1.1,0.1):\n",
        "        if run_greedy(k,e) > totalrew :\n",
        "            totalrew = run_greedy(k,e)\n",
        "            op_e = e\n",
        "    print(op_e)\n",
        "    pass\n",
        "\n",
        "optimal_e(10000)"
      ]
    },
    {
      "cell_type": "code",
      "execution_count": null,
      "metadata": {
        "id": "0fcyvRR8zDlC"
      },
      "outputs": [],
      "source": []
    },
    {
      "cell_type": "markdown",
      "metadata": {
        "id": "-RZtrx2qzDlC"
      },
      "source": [
        "## Optimistic Initial Values"
      ]
    },
    {
      "cell_type": "code",
      "execution_count": null,
      "metadata": {
        "id": "fwRtH-OZzDlC"
      },
      "outputs": [],
      "source": [
        "def run_optimistic_greedy():\n",
        "    # TODO: Implement the optimistic greedy algorithm here\n",
        "    import random\n",
        "import matplotlib.pyplot as plt\n",
        "import numpy as np\n",
        "from bandits import Bandit\n",
        "\n",
        "bandits = [Bandit(random.random()*4-2) for _ in range(10)]\n",
        "def run_greedy(k):\n",
        "    n=0\n",
        "    totalrew=0\n",
        "    arr=[5,5,5,5,5,5,5,5,5,5]\n",
        "    rew = {i: [] for i in range(k)}\n",
        "    for j in range(k):\n",
        "        m=max(arr)\n",
        "        i=arr.index(m)\n",
        "        r=bandits[i].pullLever()\n",
        "        arr[i]=(n*arr[i]+r)/(n+1)\n",
        "        rew[i].append(r)\n",
        "        n=n+1\n",
        "        totalrew+=r\n",
        "        plt.scatter(j+1,totalrew/(j+1))\n",
        "    print(arr)\n",
        "    plt.show()\n",
        "    pass\n",
        "\n",
        "\n",
        "run_greedy(1000)\n",
        "    # Return the reward from the bandits in a list\n",
        ""
      ]
    },
    {
      "cell_type": "markdown",
      "metadata": {
        "id": "xlLmnuxkzDlC"
      },
      "source": [
        "Plot the cumulative average of rewards as the number of iterations increases for an optimistic greedy of $Q_1 = 10$ and a non-optimistic $\\epsilon = 0.1$"
      ]
    },
    {
      "cell_type": "code",
      "execution_count": null,
      "metadata": {
        "id": "fp9tNveMzDlD"
      },
      "outputs": [],
      "source": []
    },
    {
      "cell_type": "code",
      "execution_count": null,
      "metadata": {
        "id": "KIo1fHW8zDlD"
      },
      "outputs": [],
      "source": []
    },
    {
      "cell_type": "markdown",
      "metadata": {
        "id": "Y1YjdRufzDlD"
      },
      "source": [
        "## Optional - Upper Confidence Bound (UCB)"
      ]
    },
    {
      "cell_type": "code",
      "execution_count": null,
      "metadata": {
        "id": "1cEmtiW_zDlD"
      },
      "outputs": [],
      "source": [
        "def run_ucb(c):\n",
        "    # TODO: Implement the UCB algorithm here\n",
        "    import random\n",
        "import matplotlib.pyplot as plt\n",
        "import numpy as np\n",
        "import math\n",
        "from bandits import Bandit\n",
        "\n",
        "ucbarr = [0,0,0,0,0,0,0,0,0,0]\n",
        "freq = [0,0,0,0,0,0,0,0,0,0]\n",
        "bandits = [Bandit(random.random()*4-2) for _ in range(10)]\n",
        "def ucb(k,c):\n",
        "    n=0\n",
        "    totalrew=0\n",
        "    arr=[0,0,0,0,0,0,0,0,0,0]\n",
        "    freq=[0,0,0,0,0,0,0,0,0,0]\n",
        "    irew=[0,0,0,0,0,0,0,0,0,0]\n",
        "    arrucb=[1000,1000,1000,1000,1000,1000,1000,1000,1000,1000]\n",
        "    rew = {i: [] for i in range(k)}\n",
        "    for j in range(k):\n",
        "        m=max(arrucb)\n",
        "        i=arrucb.index(m)\n",
        "        r=bandits[i].pullLever()\n",
        "        arr[i]=(n*arr[i]+r)/(n+1)\n",
        "        rew[i].append(r)\n",
        "        irew[i]+=r\n",
        "        n=n+1\n",
        "        freq[i]+=1\n",
        "        totalrew+=r\n",
        "        plt.scatter(j+1,totalrew/(j+1))\n",
        "        for p in range(10):\n",
        "            if freq[p] != 0:\n",
        "                freq[p]=irew[p]+c*(math.sqrt((math.log(n))/freq[p]))\n",
        "    plt.show()\n",
        "    pass\n",
        "\n",
        "ucb(1000,2)\n",
        "    # Return the reward from the bandits in a list\n",
        "    pass"
      ]
    },
    {
      "cell_type": "code",
      "execution_count": null,
      "metadata": {
        "id": "mQXt_C0jzDlD"
      },
      "outputs": [],
      "source": []
    },
    {
      "cell_type": "code",
      "execution_count": null,
      "metadata": {
        "id": "kBY1jZ2KzDlF"
      },
      "outputs": [],
      "source": []
    }
  ],
  "metadata": {
    "kernelspec": {
      "display_name": "venv",
      "language": "python",
      "name": "venv"
    },
    "language_info": {
      "codemirror_mode": {
        "name": "ipython",
        "version": 3
      },
      "file_extension": ".py",
      "mimetype": "text/x-python",
      "name": "python",
      "nbconvert_exporter": "python",
      "pygments_lexer": "ipython3",
      "version": "3.12.3"
    },
    "colab": {
      "provenance": [],
      "include_colab_link": true
    }
  },
  "nbformat": 4,
  "nbformat_minor": 0
}