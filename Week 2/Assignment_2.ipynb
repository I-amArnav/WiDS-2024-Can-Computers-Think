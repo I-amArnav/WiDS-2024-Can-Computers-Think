{
  "cells": [
    {
      "cell_type": "markdown",
      "metadata": {
        "id": "view-in-github",
        "colab_type": "text"
      },
      "source": [
        "<a href=\"https://colab.research.google.com/github/I-amArnav/WiDS-2024-Can-Computers-Think/blob/main/Week%202/Assignment_2.ipynb\" target=\"_parent\"><img src=\"https://colab.research.google.com/assets/colab-badge.svg\" alt=\"Open In Colab\"/></a>"
      ]
    },
    {
      "cell_type": "markdown",
      "metadata": {
        "id": "D1Ir5XTP0x9b"
      },
      "source": [
        "### Assignment : Week 1\n",
        "## Modeling simple RL problems by making their MDPs in Python\n",
        "\n",
        "We will create the MDPs for some of the example problems from Grokking textbook. For the simple environments, we can just hardcode the MDPs into a dictionary by exhaustively encoding the whole state space and the transition function. We will also go through a more complicated example where the state space is too large to be manually coded and we need to implement the transition function based on some state parameters.\n",
        "\n",
        "Later on, you will not need to implement the MDPs of common RL problems yourself, most of the work is already done by the OpenAI Gym library, which includes models for most of the famous RL envis.\n",
        "\n",
        "You can start this assignment during/after reading Grokking Ch-2."
      ]
    },
    {
      "cell_type": "markdown",
      "metadata": {
        "id": "cdUPiHaM0x9c"
      },
      "source": [
        "## Environment 0 - Bandit Walk\n",
        "\n",
        "Let us consider the BW environment on Page 39.\n",
        "\n",
        "State Space has 3 elements, states 0, 1 and 2.\n",
        "States 0 and 2 are terminal states and state 1 is the starting state.\n",
        "\n",
        "Action space has 2 elements, left and right.\n",
        "\n",
        "The environment is deterministic - transition probability of any action is 1.\n",
        "\n",
        "Only 1 (State, Action, State') tuple has positive reward, (1, Right, 2) gives the agent +1 reward."
      ]
    },
    {
      "cell_type": "markdown",
      "metadata": {
        "id": "5Y9Qur1r0x9c"
      },
      "source": [
        "We'll model this MDP as a dictionary. This code is an example for the upcoming exercises."
      ]
    },
    {
      "cell_type": "code",
      "execution_count": null,
      "metadata": {
        "id": "Hhg3IehZ0x9d"
      },
      "outputs": [],
      "source": [
        "bw_mdp = {\n",
        "\n",
        "    0 : {\n",
        "        \"Right\" : [(1, 0, 0, True)],\n",
        "        \"Left\" : [(1, 0, 0, True)]\n",
        "    },\n",
        "\n",
        "    1 : {\n",
        "        \"Right\" : [(1, 2, 1, True)],\n",
        "        \"Left\" : [(1, 0, 0, True)]\n",
        "    },\n",
        "\n",
        "    2 : {\n",
        "        \"Right\" : [(1, 2, 0, True)],\n",
        "        \"Left\" : [(1, 2, 0, True)]\n",
        "    }\n",
        "\n",
        "}"
      ]
    },
    {
      "cell_type": "markdown",
      "metadata": {
        "id": "wls_ntg80x9e"
      },
      "source": [
        "Note that by convention, all actions from terminal states still lead to the same state with reward 0."
      ]
    },
    {
      "cell_type": "markdown",
      "metadata": {
        "id": "ryvIWRqp0x9e"
      },
      "source": [
        "## Environment 1 - Slippery Walk\n",
        "\n",
        "Let us now look at the BSW environment on Page 40. We'll model a slightly modified version of BSW with 7 states instead (i.e the SWF envi on Page 67). It will be useful in the coming weeks.\n",
        "\n",
        "Here, states 0 and 6 are terminal states and state 3 is the starting state.\n",
        "\n",
        "Action space has again 2 elements, left and right.\n",
        "\n",
        "The environment is now stochastic, transition probability of any action is as follows -\n",
        "If agent chooses `Right` at a non-terminal state,\n",
        "- $50\\%$ times it will go to `Right` state\n",
        "- $33\\frac{1}{3} \\%$ times it will stay in same state\n",
        "- $16\\frac{2}{3}\\%$ times it will go to `Left`state\n",
        "\n",
        "This time, 2 different (State, Action, State') tuples have positive rewards, you need to find them."
      ]
    },
    {
      "cell_type": "markdown",
      "metadata": {
        "id": "KvhzrP8H0x9e"
      },
      "source": [
        "We'll again model this MDP as a dictionary. Part of the code is written for you."
      ]
    },
    {
      "cell_type": "code",
      "execution_count": null,
      "metadata": {
        "id": "-s-qQAPE0x9f"
      },
      "outputs": [],
      "source": [
        "swf_mdp = {\n",
        "\n",
        "    0 : {\n",
        "        \"Right\" : [(1, 0, 0, True)],\n",
        "        \"Left\" : [(1, 0, 0, True)],\n",
        "    },\n",
        "\n",
        "    1 : {\n",
        "        \"Right\" : [\n",
        "            (1/2, 2, 0, False),\n",
        "            (1/3, 1, 0, False),\n",
        "            (1/6, 0, 0, True),\n",
        "        ],\n",
        "        \"Left\" : [\n",
        "            (1/2, 0, 0, True),\n",
        "            (1/3, 1, 0, False),\n",
        "            (1/6, 2, 0, False),\n",
        "        ]\n",
        "    },\n",
        "\n",
        "    2 : {\n",
        "        \"Right\" : [\n",
        "            (1/2, 3, 0, False),\n",
        "            (1/3, 2, 0, False),\n",
        "            (1/6, 1, 0, False),\n",
        "        ],\n",
        "        \"Left\" : [\n",
        "            (1/2, 1, 0, False),\n",
        "            (1/3, 2, 0, False),\n",
        "            (1/6, 3, 0, False),\n",
        "        ]\n",
        "    },\n",
        "\n",
        "    3 : {\n",
        "        \"Right\" : [\n",
        "            (1/2, 4, 0, False),\n",
        "            (1/3, 3, 0, False),\n",
        "            (1/6, 2, 0, False),\n",
        "        ],\n",
        "        \"Left\" : [\n",
        "            (1/2, 2, 0, False),\n",
        "            (1/3, 3, 0, False),\n",
        "            (1/6, 4, 0, False),\n",
        "        ]\n",
        "    },\n",
        "\n",
        "    4 : {\n",
        "        \"Right\" : [\n",
        "            (1/2, 5, 0, False),\n",
        "            (1/3, 4, 0, False),\n",
        "            (1/6, 3, 0, False),\n",
        "        ],\n",
        "        \"Left\" : [\n",
        "            (1/2, 3, 0, False),\n",
        "            (1/3, 4, 0, False),\n",
        "            (1/6, 5, 0, False),\n",
        "        ]\n",
        "    },\n",
        "\n",
        "    5 : {\n",
        "        \"Right\" : [\n",
        "            (1/2, 6, 1, True),\n",
        "            (1/3, 5, 0, False),\n",
        "            (1/6, 4, 0, False),\n",
        "        ],\n",
        "        \"Left\" : [\n",
        "            (1/2, 4, 0, False),\n",
        "            (1/3, 5, 0, False),\n",
        "            (1/6, 6, 1, True),\n",
        "        ]\n",
        "    },\n",
        "\n",
        "    6 : {\n",
        "        \"Right\" : [(1, 6, 0, True)],\n",
        "        \"Left\" : [(1, 6, 0, True)],\n",
        "    },\n",
        "}"
      ]
    },
    {
      "cell_type": "markdown",
      "metadata": {
        "id": "tzXh47lC0x9f"
      },
      "source": [
        "Feel free to automate filling this MDP, but ensure that it is correctly filled as it'll be back in next week's assignment."
      ]
    },
    {
      "cell_type": "markdown",
      "metadata": {
        "id": "RoL6GV590x9f"
      },
      "source": [
        "## Environment 2 - Frozen Lake Environment\n",
        "\n",
        "This environment is described on Page 46.\n",
        "\n",
        "The FL environment has a large state space, so it's better to generate most of the MDP via Python instead of typing stuff manually.\n",
        "\n",
        "Note that all 5 states - 5, 7, 11, 12, 15 are terminal states, so keep that in mind while constructing the MDP.\n",
        "\n",
        "There are 4 actions now - Up, Down, Left, Right.\n",
        "\n",
        "The environment is stochastic, and states at the border of lake will require separate treatment.\n",
        "\n"
      ]
    },
    {
      "cell_type": "markdown",
      "metadata": {
        "id": "-eB3lmPe0x9f"
      },
      "source": [
        "Yet again we will model this MDP as a (large) dictionary."
      ]
    },
    {
      "cell_type": "code",
      "execution_count": null,
      "metadata": {
        "id": "K0k6GFxQ0x9g"
      },
      "outputs": [],
      "source": [
        "fl_mdp = {\n",
        "    # to be added\n",
        "}\n",
        "direc = [\"Up\",\"Right\",\"Down\",\"Left\"]\n",
        "def state2(state, action) :\n",
        "    sate2 = 0\n",
        "    if action == \"Up\" and state >= 4 :\n",
        "        sate2 = state-4\n",
        "    elif action == \"Down\" and state <= 11 :\n",
        "        sate2 = state+4\n",
        "    elif action == \"Right\" and state%4 != 3 :\n",
        "        sate2 = state+1\n",
        "    elif action == \"Left\" and state%4 != 0 :\n",
        "        sate2 = state-1\n",
        "    else :\n",
        "        sate2 = state\n",
        "    if state == 5 or state == 7 or state == 11 or state == 12 or state == 15 :\n",
        "        sate2 = state\n",
        "    return sate2\n",
        "\n",
        "def reward(state,sate2) :\n",
        "    if state !=15 and sate2 == 15 :\n",
        "        return 1\n",
        "    else :\n",
        "        return 0\n",
        "\n",
        "def terminal(sate2):\n",
        "    if sate2 == 5 or sate2 == 7 or sate2 == 11 or sate2 == 12 or sate2 == 15 :\n",
        "        return True\n",
        "    else :\n",
        "        return False"
      ]
    },
    {
      "cell_type": "code",
      "execution_count": null,
      "metadata": {
        "id": "3GDeFy8z0x9g"
      },
      "outputs": [],
      "source": [
        "for state in range(0, 16):\n",
        "\n",
        "    transitions = {}\n",
        "    for action in direc :\n",
        "        temp = []\n",
        "        a = direc.index(action)\n",
        "        for i in range(3,6) :\n",
        "           temp.append((1/3,state2(state,direc[(a+i)%4]),reward(state,state2(state,direc[(a+i)%4])),terminal(state2(state,direc[(a+i)%4]))))\n",
        "        transitions[action] = temp\n",
        "    fl_mdp[state] = transitions\n",
        "\n",
        "\n",
        "print (fl_mdp)"
      ]
    },
    {
      "cell_type": "markdown",
      "metadata": {
        "id": "-UuA0lis0x9g"
      },
      "source": [
        "You might need to do some stuff manually, but make sure to automate most of it."
      ]
    },
    {
      "cell_type": "markdown",
      "metadata": {
        "id": "Di6viUIY0x9g"
      },
      "source": [
        "You can check your implementation of the FL environment by comparing it with the one in OpenAI Gym.\n",
        "\n",
        "You don't need to worry about Gym right now, we'll set it up in the coming weeks. But here is the code to import an MDP."
      ]
    },
    {
      "cell_type": "code",
      "execution_count": null,
      "metadata": {
        "id": "V7gR7-1i0x9g"
      },
      "outputs": [],
      "source": [
        "import gym\n",
        "P = gym.make('FrozenLake-v1').env.P"
      ]
    },
    {
      "cell_type": "markdown",
      "metadata": {
        "id": "VNOWD9bo0x9g"
      },
      "source": [
        "Since the imported MDP is also just a dictionary, we can just print it."
      ]
    },
    {
      "cell_type": "code",
      "execution_count": null,
      "metadata": {
        "id": "Sq6Cgxa30x9g"
      },
      "outputs": [],
      "source": [
        "# using the pretty print module\n",
        "\n",
        "import pprint\n",
        "pprint.pprint(P)"
      ]
    },
    {
      "cell_type": "code",
      "execution_count": null,
      "metadata": {
        "id": "SCkEE0pT0x9g"
      },
      "outputs": [],
      "source": []
    }
  ],
  "metadata": {
    "kernelspec": {
      "display_name": "Python 3",
      "language": "python",
      "name": "python3"
    },
    "language_info": {
      "codemirror_mode": {
        "name": "ipython",
        "version": 3
      },
      "file_extension": ".py",
      "mimetype": "text/x-python",
      "name": "python",
      "nbconvert_exporter": "python",
      "pygments_lexer": "ipython3",
      "version": "3.11.2"
    },
    "colab": {
      "provenance": [],
      "include_colab_link": true
    }
  },
  "nbformat": 4,
  "nbformat_minor": 0
}